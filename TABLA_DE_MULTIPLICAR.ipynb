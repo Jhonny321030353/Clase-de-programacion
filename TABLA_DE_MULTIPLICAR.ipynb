{
  "nbformat": 4,
  "nbformat_minor": 0,
  "metadata": {
    "colab": {
      "name": "TABLA DE MULTIPLICAR.ipynb",
      "provenance": []
    },
    "kernelspec": {
      "name": "python3",
      "display_name": "Python 3"
    },
    "language_info": {
      "name": "python"
    }
  },
  "cells": [
    {
      "cell_type": "code",
      "execution_count": null,
      "metadata": {
        "colab": {
          "base_uri": "https://localhost:8080/"
        },
        "id": "HAaPjjpH9fYT",
        "outputId": "a7215d1c-5da1-426c-c115-d0a63e0e3f77"
      },
      "outputs": [
        {
          "output_type": "stream",
          "name": "stdout",
          "text": [
            "inserta la tabla que deseas consultar: 100\n",
            "100 : 1 : 100\n",
            "100 : 2 : 200\n",
            "100 : 3 : 300\n",
            "100 : 4 : 400\n",
            "100 : 5 : 500\n",
            "100 : 6 : 600\n",
            "100 : 7 : 700\n",
            "100 : 8 : 800\n",
            "100 : 9 : 900\n",
            "100 : 10 : 1000\n"
          ]
        }
      ],
      "source": [
        "tab=int(input('inserta la tabla que deseas consultar: '))\n",
        "mul=0\n",
        "for i in range(1,11):\n",
        "  mul=tab*i;\n",
        "  print(tab,\":\",i,\":\",mul)"
      ]
    }
  ]
}