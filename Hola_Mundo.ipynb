{
  "nbformat": 4,
  "nbformat_minor": 0,
  "metadata": {
    "colab": {
      "name": "Hola Mundo.ipynb",
      "provenance": []
    },
    "kernelspec": {
      "name": "python3",
      "display_name": "Python 3"
    },
    "language_info": {
      "name": "python"
    }
  },
  "cells": [
    {
      "cell_type": "code",
      "execution_count": 1,
      "metadata": {
        "id": "Vfhda-A5RH9B",
        "colab": {
          "base_uri": "https://localhost:8080/"
        },
        "outputId": "0f86a085-91f8-41f9-a515-c4aa930ef8ed"
      },
      "outputs": [
        {
          "output_type": "stream",
          "name": "stdout",
          "text": [
            "['H', 'O', 'L', 'A', 'M', 'U', 'N', 'D', 'O']\n",
            "['O', 'O', 'L', 'A', 'M', 'U', 'N', 'D', 'H']\n"
          ]
        }
      ],
      "source": [
        "J=8\n",
        "S=['H','O','L','A','M','U','N','D','O']\n",
        "for i in range(0,1):\n",
        "  print(S)\n",
        "  vari=S[J]\n",
        "  S[J]=S[i]\n",
        "  S[i]=vari\n",
        "  J=J-1\n",
        "  print(S)\n",
        "\n",
        "\n"
      ]
    }
  ]
}