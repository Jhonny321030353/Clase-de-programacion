{
  "nbformat": 4,
  "nbformat_minor": 0,
  "metadata": {
    "colab": {
      "name": "Calculadora de unidades.ipynb",
      "provenance": [],
      "collapsed_sections": []
    },
    "kernelspec": {
      "name": "python3",
      "display_name": "Python 3"
    },
    "language_info": {
      "name": "python"
    }
  },
  "cells": [
    {
      "cell_type": "code",
      "source": [
        "\n",
        "Ch=0  #calificacion hombre\n",
        "Cm=0  #calificacion mujer\n",
        "Ph=0  #promedio hombre\n",
        "Pm=0  #promedio mujer\n",
        "Th=0  #total hombre\n",
        "Tm=0  #total mujer\n",
        "\n",
        "\n",
        "fil=int(input(\"Ingresa el número de filas: \"))\n",
        "col=int(input(\"Ingresa el número de columnas: \"))\n",
        "\n",
        "A=[]\n",
        "valor=\"\"\n",
        "\n",
        "for i in range(0,col):\n",
        "  A.append([0]*fil)\n",
        "\n",
        "for i in range(0,col):\n",
        "  for j in range(0,fil):\n",
        "    if (j==0):\n",
        "      valor=\"numero de control\"\n",
        "    elif(j==1):\n",
        "      valor=\"nombre del alumno\"\n",
        "    elif(j==2):\n",
        "      valor=\"Genero\"\n",
        "    elif(j==3):\n",
        "      valor=\"Calificacion\"\n",
        "    A[i][j]=input(valor+ \": \" )\n",
        "\n",
        "for i in range(0,col):\n",
        "\n",
        "  if(A[i][2]=='hombre'):\n",
        "    Th=Th+1\n",
        "    Ch=Ch+int(A[i][3])\n",
        "\n",
        "  if(A[i][2]=='mujer'):\n",
        "    Tm=Tm+1\n",
        "    Cm=Cm+int(A[i][3])\n",
        "Ph=Ch/Th\n",
        "Pm=Cm/Tm\n",
        "\n",
        "\n",
        "print(\"Promedio de hombres\",Ph)\n",
        "print(\"Promedio de mujeres\",Pm)\n",
        "print(A)"
      ],
      "metadata": {
        "colab": {
          "base_uri": "https://localhost:8080/"
        },
        "id": "3QDPQceE37qL",
        "outputId": "73c7150c-bcb4-419c-9205-f59e1457f012"
      },
      "execution_count": null,
      "outputs": [
        {
          "output_type": "stream",
          "name": "stdout",
          "text": [
            "Ingresa el número de filas: 4\n",
            "Ingresa el número de columnas: 2\n",
            "numero de control: 321\n",
            "nombre del alumno: 3215\n",
            "Genero: hombre\n",
            "Calificacion: 10\n",
            "numero de control: 354\n",
            "nombre del alumno: fsdgfa\n",
            "Genero: mujer\n",
            "Calificacion: 73\n",
            "Promedio de hombres 10.0\n",
            "Promedio de mujeres 73.0\n",
            "[['321', '3215', 'hombre', '10'], ['354', 'fsdgfa', 'mujer', '73']]\n"
          ]
        }
      ]
    },
    {
      "cell_type": "code",
      "source": [
        "print(\"Esto es una suma de dos numeros\")\n",
        "numero_uno=5\n",
        "numero_dos=10\n",
        "resultado=numero_uno+numero_dos\n",
        "print(resultado)\n",
        "\n"
      ],
      "metadata": {
        "id": "MJjS-haLz7-G"
      },
      "execution_count": null,
      "outputs": []
    }
  ]
}