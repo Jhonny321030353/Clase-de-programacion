{
  "nbformat": 4,
  "nbformat_minor": 0,
  "metadata": {
    "colab": {
      "name": "Examen 2da oprtunidad.ipynb",
      "provenance": []
    },
    "kernelspec": {
      "name": "python3",
      "display_name": "Python 3"
    },
    "language_info": {
      "name": "python"
    }
  },
  "cells": [
    {
      "cell_type": "code",
      "source": [
        "a=[]\n",
        "b=[]\n",
        "c=[]\n",
        "\n",
        "for i in range (0,10):\n",
        "  a.append(int(input('Ingresa los numeros del arreglo a: ')))\n",
        "\n",
        "for j in range (0,10):\n",
        "  b.append(int(input('Ingresa los numeros del arreglo b: ')))\n",
        "\n",
        "c=set(a)-set(b)\n",
        "\n",
        "print(a)\n",
        "print(b)\n",
        "print(c)"
      ],
      "metadata": {
        "id": "254coW7BY9Hi",
        "colab": {
          "base_uri": "https://localhost:8080/"
        },
        "outputId": "eedaba9b-c264-4ad2-bc63-4fd20981253a"
      },
      "execution_count": null,
      "outputs": [
        {
          "output_type": "stream",
          "name": "stdout",
          "text": [
            "Ingresa los numeros del arreglo a: 45\n",
            "Ingresa los numeros del arreglo a: 66\n",
            "Ingresa los numeros del arreglo a: 555\n",
            "Ingresa los numeros del arreglo a: 777\n",
            "Ingresa los numeros del arreglo a: 77\n",
            "Ingresa los numeros del arreglo a: 56\n",
            "Ingresa los numeros del arreglo a: 4\n",
            "Ingresa los numeros del arreglo a: 3\n",
            "Ingresa los numeros del arreglo a: 7\n",
            "Ingresa los numeros del arreglo a: 8\n",
            "Ingresa los numeros del arreglo b: 5\n",
            "Ingresa los numeros del arreglo b: 4\n",
            "Ingresa los numeros del arreglo b: 34\n",
            "Ingresa los numeros del arreglo b: 65\n",
            "Ingresa los numeros del arreglo b: 34\n",
            "Ingresa los numeros del arreglo b: 76\n",
            "Ingresa los numeros del arreglo b: 45\n",
            "Ingresa los numeros del arreglo b: 65\n",
            "Ingresa los numeros del arreglo b: 34\n",
            "Ingresa los numeros del arreglo b: 45\n",
            "[45, 66, 555, 777, 77, 56, 4, 3, 7, 8]\n",
            "[5, 4, 34, 65, 34, 76, 45, 65, 34, 45]\n",
            "{66, 3, 7, 8, 777, 555, 77, 56}\n"
          ]
        }
      ]
    }
  ]
}