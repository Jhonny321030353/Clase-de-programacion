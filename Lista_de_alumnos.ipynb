{
  "nbformat": 4,
  "nbformat_minor": 0,
  "metadata": {
    "colab": {
      "name": "Lista de alumnos.ipynb",
      "provenance": []
    },
    "kernelspec": {
      "name": "python3",
      "display_name": "Python 3"
    },
    "language_info": {
      "name": "python"
    }
  },
  "cells": [
    {
      "cell_type": "code",
      "source": [
        "#Se establece el tamaño del arreglo\n",
        "m=int(input(\"Ingresa el número de filas: \")) #Filas\n",
        "n=int(input(\"Ingresa el número de columnas: \")) #Columnas\n",
        "\n",
        "#Se crea el arreglo\n",
        "A=[]\n",
        "\n",
        "#Se crea una variable para establecer si es de Netflix o de Disney + que inicia vacía\n",
        "valor=\"\"\n",
        "\n",
        "#Se inicializa el arreglo, es un proceso necesario para los arreglos bidimensionales\n",
        "for i in range(m):\n",
        "  A.append([0]*n)\n",
        "\n",
        "#Inicia el proceso de llenado del arreglo bidimensional\n",
        "for i in range (m):\n",
        "\n",
        "  #Este if es auxiliar solamente para mostrar Netflix o Disney + en la captura\n",
        "  if (i==0):\n",
        "    valor=\"Netflix\"\n",
        "  else:\n",
        "    valor=\"Disney +\"\n",
        "\n",
        "  for j in range (n):\n",
        "    #Así se llena el arreglo bidimensional\n",
        "    A[i][j]=input(\"Introduzca la serie \"+str(j+1)+\" de \"+valor+\": \")\n",
        "\n",
        "#Se imprime el arreglo bidimensional\n",
        "print(A)"
      ],
      "metadata": {
        "id": "110ADutY8nGQ",
        "colab": {
          "base_uri": "https://localhost:8080/"
        },
        "outputId": "4f6b42c8-1bc7-478b-a379-4056c0aa7b9a"
      },
      "execution_count": null,
      "outputs": [
        {
          "output_type": "stream",
          "name": "stdout",
          "text": [
            "Ingresa el número de filas: 2\n",
            "Ingresa el número de columnas: 6\n",
            "Introduzca la serie 1 de Netflix: fsd\n",
            "Introduzca la serie 2 de Netflix: fsd\n",
            "Introduzca la serie 3 de Netflix: fse\n",
            "Introduzca la serie 4 de Netflix: sdf\n",
            "Introduzca la serie 5 de Netflix: sdf\n",
            "Introduzca la serie 6 de Netflix: af\n",
            "Introduzca la serie 1 de Disney +: sdf\n",
            "Introduzca la serie 2 de Disney +: fsd\n",
            "Introduzca la serie 3 de Disney +: ger\n",
            "Introduzca la serie 4 de Disney +: gw\n",
            "Introduzca la serie 5 de Disney +: we\n",
            "Introduzca la serie 6 de Disney +: qwe\n",
            "[['fsd', 'fsd', 'fse', 'sdf', 'sdf', 'af'], ['sdf', 'fsd', 'ger', 'gw', 'we', 'qwe']]\n"
          ]
        }
      ]
    },
    {
      "cell_type": "code",
      "source": [
        "array_datos=[]\n",
        "\n",
        "v=int(input('ingresa la cantidad de alumnos: '))  #filas\n",
        "c=4\n",
        "#control, nombre, calificación, genero  #columnas\n",
        "\n",
        "for i range(len(array_datos)):\n",
        "  array_datos[0].append=input('Introduzca el numero de control: ')\n",
        "\n"
      ],
      "metadata": {
        "id": "z2apxBRhRglh",
        "colab": {
          "base_uri": "https://localhost:8080/",
          "height": 130
        },
        "outputId": "26914e51-a015-4897-d6eb-fa85f1aece88"
      },
      "execution_count": null,
      "outputs": [
        {
          "output_type": "error",
          "ename": "SyntaxError",
          "evalue": "ignored",
          "traceback": [
            "\u001b[0;36m  File \u001b[0;32m\"<ipython-input-42-826bf1c96eeb>\"\u001b[0;36m, line \u001b[0;32m7\u001b[0m\n\u001b[0;31m    for i range(len(array_datos)):\u001b[0m\n\u001b[0m              ^\u001b[0m\n\u001b[0;31mSyntaxError\u001b[0m\u001b[0;31m:\u001b[0m invalid syntax\n"
          ]
        }
      ]
    },
    {
      "cell_type": "code",
      "source": [
        "n = 4\n",
        "a = [[0] * n for i in range(n)]\n",
        "for i in range(n):\n",
        "    for j in range(n):\n",
        "        if i < j:\n",
        "            a[i][j] = 0\n",
        "        elif i > j:\n",
        "            a[i][j] = 2\n",
        "        else:\n",
        "            a[i][j] = 1\n",
        "for row in a:\n",
        "    print(' '.join([str(elem) for elem in row]))\n"
      ],
      "metadata": {
        "colab": {
          "base_uri": "https://localhost:8080/"
        },
        "id": "w36Dql0DjFQX",
        "outputId": "f5a38ab9-4e00-4f0b-cdf7-c7d623841018"
      },
      "execution_count": null,
      "outputs": [
        {
          "output_type": "stream",
          "name": "stdout",
          "text": [
            "1 0 0 0\n",
            "2 1 0 0\n",
            "2 2 1 0\n",
            "2 2 2 1\n"
          ]
        }
      ]
    },
    {
      "cell_type": "code",
      "source": [
        "[[i * j for j in range(m)] for i in range(n)]\n"
      ],
      "metadata": {
        "id": "-348fsVnkrmw"
      },
      "execution_count": null,
      "outputs": []
    }
  ]
}