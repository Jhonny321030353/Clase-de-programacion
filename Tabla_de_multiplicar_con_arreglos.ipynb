{
  "nbformat": 4,
  "nbformat_minor": 0,
  "metadata": {
    "colab": {
      "name": "Tabla de multiplicar con arreglos.ipynb",
      "provenance": []
    },
    "kernelspec": {
      "name": "python3",
      "display_name": "Python 3"
    },
    "language_info": {
      "name": "python"
    }
  },
  "cells": [
    {
      "cell_type": "code",
      "execution_count": null,
      "metadata": {
        "colab": {
          "base_uri": "https://localhost:8080/"
        },
        "id": "2skUYXAd9rWp",
        "outputId": "cb665b2f-a9fb-4216-e44e-ad24ec4c9104"
      },
      "outputs": [
        {
          "output_type": "stream",
          "name": "stdout",
          "text": [
            "Ingresa el numero de la tabla que necesitas: 9\n",
            "9\n",
            "18\n",
            "27\n",
            "36\n",
            "45\n",
            "54\n",
            "63\n",
            "72\n",
            "81\n",
            "90\n"
          ]
        }
      ],
      "source": [
        "tabla=[]\n",
        "\n",
        "num=int(input('Ingresa el numero de la tabla que necesitas: '))\n",
        "\n",
        "for i in range(0,10):\n",
        "  tabla.append(num*(i+1))\n",
        "  print(tabla[i])\n",
        "  "
      ]
    }
  ]
}